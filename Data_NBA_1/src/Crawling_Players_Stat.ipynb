{
 "cells": [
  {
   "cell_type": "markdown",
   "metadata": {},
   "source": [
    "# Import Library"
   ]
  },
  {
   "cell_type": "code",
   "execution_count": 1,
   "metadata": {},
   "outputs": [],
   "source": [
    "import selenium\n",
    "from selenium import webdriver\n",
    "from selenium.webdriver.common.by import By\n",
    "from selenium.webdriver.support.ui import WebDriverWait\n",
    "from selenium.webdriver.support import expected_conditions as EC\n",
    "import pandas as pd\n",
    "import time"
   ]
  },
  {
   "cell_type": "markdown",
   "metadata": {},
   "source": [
    "# Set up the driver"
   ]
  },
  {
   "cell_type": "code",
   "execution_count": 2,
   "metadata": {},
   "outputs": [],
   "source": [
    "driver = webdriver.Chrome()\n",
    "url = \"https://www.nba.com/stats/leaders\"\n",
    "url_season = [\n",
    "    \"?Season=2024-25\",\n",
    "    \"?Season=2023-24\",\n",
    "    \"?Season=2022-23\",\n",
    "    \"?Season=2021-22\",\n",
    "    \"?Season=2020-21\",\n",
    "]\n",
    "\n",
    "data = pd.DataFrame()"
   ]
  },
  {
   "cell_type": "markdown",
   "metadata": {},
   "source": [
    "# Crawling Data"
   ]
  },
  {
   "cell_type": "code",
   "execution_count": 3,
   "metadata": {},
   "outputs": [
    {
     "name": "stdout",
     "output_type": "stream",
     "text": [
      "Pagination error: Message: \n",
      "\n",
      "Pagination error: Message: \n",
      "\n",
      "Pagination error: Message: \n",
      "\n",
      "Pagination error: Message: \n",
      "\n",
      "Pagination error: Message: \n",
      "\n"
     ]
    }
   ],
   "source": [
    "for i in url_season:\n",
    "    driver.get(url + i)\n",
    "    time.sleep(2)  # Allow the page to load\n",
    "\n",
    "    # Wait for the pagination element to appear\n",
    "    try:\n",
    "        pagination = WebDriverWait(driver, 10).until(\n",
    "            EC.presence_of_element_located(\n",
    "                (By.XPATH, '//div[contains(@class, \"Pagination_content\")]')\n",
    "            )\n",
    "        )\n",
    "        page = int(pagination.find_element(By.XPATH, \".//div[4]\").text.split(\" \")[-1])\n",
    "    except Exception as e:\n",
    "        print(f\"Pagination element not found: {e}\")\n",
    "        continue\n",
    "\n",
    "    # Locate table headers\n",
    "    headers = driver.find_element(By.XPATH, '//tr[contains(@class, \"Crom_headers\")]')\n",
    "    columns = [header.text for header in headers.find_elements(By.TAG_NAME, \"th\")]\n",
    "    columns.append(\"Season\")  # Add a season column\n",
    "\n",
    "    # Temporary DataFrame for the current season\n",
    "    season_data = pd.DataFrame(columns=columns)\n",
    "\n",
    "    for _ in range(page):\n",
    "        # Locate table rows\n",
    "        table = WebDriverWait(driver, 10).until(\n",
    "            EC.presence_of_element_located(\n",
    "                (By.XPATH, '//tbody[contains(@class, \"Crom_body\")]')\n",
    "            )\n",
    "        )\n",
    "        rows = table.find_elements(By.XPATH, \".//tr\")\n",
    "\n",
    "        for row in rows:\n",
    "            cells = row.find_elements(By.XPATH, \".//td\")\n",
    "            row_data = [cell.text for cell in cells]\n",
    "            if row_data:  # Avoid empty rows\n",
    "                row_data.append(i.split(\"=\")[-1])  # Add the season\n",
    "                season_data.loc[len(season_data)] = row_data\n",
    "\n",
    "        # Click the next page button\n",
    "        try:\n",
    "            button = WebDriverWait(driver, 10).until(\n",
    "                EC.element_to_be_clickable(\n",
    "                    (\n",
    "                        By.XPATH,\n",
    "                        './/button[@type=\"button\" and @title=\"Next Page Button\"]',\n",
    "                    )\n",
    "                )\n",
    "            )\n",
    "            driver.execute_script(\n",
    "                \"arguments[0].click();\", button\n",
    "            )  # Ensure no overlay blocks the click\n",
    "            time.sleep(3)  # Wait for the next page to load\n",
    "        except Exception as e:\n",
    "            print(f\"Pagination error: {e}\")\n",
    "            break\n",
    "\n",
    "    # Append the season's data to the main DataFrame\n",
    "    data = pd.concat([data, season_data], ignore_index=True)"
   ]
  },
  {
   "cell_type": "code",
   "execution_count": 4,
   "metadata": {},
   "outputs": [
    {
     "name": "stdout",
     "output_type": "stream",
     "text": [
      "Data saved to ../../Data_NBA_1/nba_stats.csv\n"
     ]
    }
   ],
   "source": [
    "# Save to CSV\n",
    "path = \"../../Data_NBA_1/nba_stats.csv\"\n",
    "data.to_csv(path, index=False, header=True)\n",
    "print(f\"Data saved to {path}\")\n",
    "\n",
    "# Close the browser\n",
    "driver.quit()"
   ]
  }
 ],
 "metadata": {
  "kernelspec": {
   "display_name": "Python 3",
   "language": "python",
   "name": "python3"
  },
  "language_info": {
   "codemirror_mode": {
    "name": "ipython",
    "version": 3
   },
   "file_extension": ".py",
   "mimetype": "text/x-python",
   "name": "python",
   "nbconvert_exporter": "python",
   "pygments_lexer": "ipython3",
   "version": "3.13.0"
  }
 },
 "nbformat": 4,
 "nbformat_minor": 2
}
