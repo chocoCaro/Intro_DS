{
 "cells": [
  {
   "cell_type": "code",
   "execution_count": 1,
   "metadata": {},
   "outputs": [],
   "source": [
    "import selenium\n",
    "from selenium import webdriver\n",
    "from selenium.webdriver.common.keys import Keys\n",
    "from selenium.webdriver.common.by import By\n",
    "\n",
    "import pandas as pd"
   ]
  },
  {
   "cell_type": "code",
   "execution_count": 9,
   "metadata": {},
   "outputs": [],
   "source": [
    "driver = webdriver.Chrome()\n",
    "url = \"https://www.nba.com/stats/leaders\"\n",
    "driver.get(url)"
   ]
  },
  {
   "cell_type": "code",
   "execution_count": 10,
   "metadata": {},
   "outputs": [],
   "source": [
    "pagination = driver.find_element(By.XPATH, '//div[@class=\"Pagination_content__f2at7 Crom_cromSetting__Tqtiq\"]')\n",
    "page = pagination.find_element(By.XPATH, './/div[4]').text.split(' ')[-1]\n",
    "headers = driver.find_element(By.XPATH, '//tr[@class=\"Crom_headers__mzI_m\"]')\n",
    "columns = headers.text.split(' ')\n",
    "data = pd.DataFrame(columns = columns)\n",
    "\n",
    "for i in range(int(page)):\n",
    "    button = pagination.find_element(By.XPATH, './/button[@type=\"button\" and @title=\"Next Page Button\"]')\n",
    "    table = driver.find_element(By.XPATH, '//tbody[@class=\"Crom_body__UYOcU\"]')\n",
    "    rows = table.find_elements(By.XPATH, './/tr')\n",
    "    for row in rows:\n",
    "        cells = row.find_elements(By.XPATH, './/td')\n",
    "        row_data = [cell.text for cell in cells]\n",
    "        data.loc[len(data)] = row_data\n",
    "    \n",
    "    button.click()"
   ]
  },
  {
   "cell_type": "code",
   "execution_count": 12,
   "metadata": {},
   "outputs": [],
   "source": [
    "path = './Data_NBA_1/nba_stats.csv'\n",
    "data.to_csv(path, index = False, header = True)"
   ]
  }
 ],
 "metadata": {
  "kernelspec": {
   "display_name": "Python 3",
   "language": "python",
   "name": "python3"
  },
  "language_info": {
   "codemirror_mode": {
    "name": "ipython",
    "version": 3
   },
   "file_extension": ".py",
   "mimetype": "text/x-python",
   "name": "python",
   "nbconvert_exporter": "python",
   "pygments_lexer": "ipython3",
   "version": "3.12.0"
  }
 },
 "nbformat": 4,
 "nbformat_minor": 2
}
