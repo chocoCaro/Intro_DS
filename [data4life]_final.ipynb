{
 "cells": [
  {
   "cell_type": "markdown",
   "metadata": {},
   "source": [
    "# **[Data4Life] - Introduction to Data Science**\n",
    "Topic ***NBA*** - Group ***16***"
   ]
  },
  {
   "cell_type": "markdown",
   "metadata": {},
   "source": [
    "### Our motivation\n",
    "The NBA is one of the most popular sports leagues worldwide. It has been captivating millions of fans with its teams, players and storied history. Because of its popularity, it generate vast amount of data from game statistics to player achievements lead to create an excellent opportunity to apply data science techniques to analyze trends, identify patterns and derive meaningful insights.\n",
    "\n",
    "Our works is designed to serve for **sports enthusiasts** who will gain a richer understanding of individual game performance and season-wide trends, **Team and League Stakeholders** who will use these insights for better decision-making and the last one, **data science community** who can learn about practical applications of data science in sports and inspiring further exploration in this field. (I hope that :>>)\n",
    "\n",
    "### Our purpose\n",
    "- Provide NBA fans, analysts and stakeholders with deeper insights into team and player performance through data-drive approaches.\n",
    "- Assist coaches, managers or team owners in optimizing strategies and resources.\n",
    "- Demonstrate how data science can be applied to a real-world context, showcasing the power of statistical analysis and machine learning in sports analytics.\n",
    "\n",
    "### Our key objective\n",
    "\n",
    "**Title 0: Overview of the Current NBA Situation**\n",
    "- Provide an initial analysis to contextualize the state of the NBA.\n",
    "- Break down insights into three main categories:\n",
    "   1. Players\n",
    "   2. Teams\n",
    "   3. Data Modelling\n",
    "\n",
    "**Title 1: Players**\n",
    "\n",
    "Objective 1: Identify high-performing and consistent players (2020-2025)\n",
    "- Focus on players with high performance and consistency in the past five years.\n",
    "- Use Efficiency (EFF) as the primary metric:\n",
    "EFF = (PTS+REB+AST+STL+BLK)−((FGA−FGM)+(FTA−FTM)+TO) / GP\n",
    "​\n",
    "Where:\n",
    "PTS: Points scored\n",
    "REB: Total rebounds (offensive + defensive)\n",
    "AST: Assists\n",
    "STL: Steals\n",
    "BLK: Blocks\n",
    "FGA, FGM: Field goals attempted and made\n",
    "FTA, FTM: Free throws attempted and made\n",
    "TO: Turnovers\n",
    "GP: Games played\n",
    "\n",
    "Analyze EFF trends:\n",
    "- Evaluate EFF variability across seasons\n",
    "- Analyze EFF changes with age (does performance decline as players get older?)\n",
    "\n",
    "Objective 2: Identify Top-performing rookies (2024-2025)\n",
    "- Focus only on the current season to identify rookies with standout performances\n",
    "- Key metrics: EFF, PTS, REB, AST\n",
    "\n",
    "Objective 3: Analyze player performance by position\n",
    "- Break down player performance based on their roles:\n",
    "  - Defensive Players: Metric like REB, STL, BLK\n",
    "  - Attackers (Scores): Metric like PTS, FG%, 3P%\n",
    "  - Playmakers (Shooting/Passing): Metric like AST, FG%, 3P%, FT%\n",
    "\n",
    "Approach: \n",
    "- Calculate averages and standard deviations for EFF across years for consistency\n",
    "- Segment players by position (DEF, ATK, Playmaker)\n",
    "- Compare rookies' performance against established players\n",
    "\n",
    "**Title 2: Teams**\n",
    "\n",
    "Objective: Analyze Team Weaknesses\n",
    "- Identify areas where teams are underperforming:\n",
    "   - If a team has a low offensive score (ATK), recommend acquiring players strong in scoring metrics (e.g., PTS, FG%, 3P%)\n",
    "   - If a team has a weak defense, focus on players with high REB, STL, BLK\n",
    "\n",
    "Approach:\n",
    "- Aggregate team-level metrics (e.g., average PTS, REB, STL) and compare them across the league\n",
    "- Identify statistically significant deficiencies (e.g., below the league average)\n",
    "- Recommend specific player profiles to address these weakness\n",
    "\n",
    "**Title 3: Data Modelling**\n",
    "\n",
    "Objective: Predict Future Performance\n",
    "- Develop a model to predict whether a player's performance will remain high in the next season\n",
    "- Use player data from past seasons to build predictive models, incorporating:\n",
    "   - EFF\n",
    "   - Age\n",
    "   - Historical trends in metrics like PTS, REB, AST, STL, BLK\n",
    "\n",
    "Approach:\n",
    "1. Feature Engineering\n",
    "   - Create relevant features (e.g., age, position, past EFF trends)\n",
    "\n",
    "2. Train Predictive Models\n",
    "   - Models: Linear regression, random forest or Neural Networks\n",
    "   - Evaluate performance using metrics like RMSE or MAE\n",
    "\n",
    "3. Test the model\n",
    "   - Validate predictions against current season data to ensure accuracy\n",
    "\n"
   ]
  },
  {
   "cell_type": "markdown",
   "metadata": {},
   "source": [
    "### Import module"
   ]
  },
  {
   "cell_type": "code",
   "execution_count": 21,
   "metadata": {},
   "outputs": [],
   "source": [
    "import numpy as np\n",
    "import pandas as pd\n",
    "import matplotlib.pyplot as plt\n",
    "import seaborn as sns"
   ]
  }
 ],
 "metadata": {
  "kernelspec": {
   "display_name": "Python 3",
   "language": "python",
   "name": "python3"
  },
  "language_info": {
   "codemirror_mode": {
    "name": "ipython",
    "version": 3
   },
   "file_extension": ".py",
   "mimetype": "text/x-python",
   "name": "python",
   "nbconvert_exporter": "python",
   "pygments_lexer": "ipython3",
   "version": "3.13.0"
  }
 },
 "nbformat": 4,
 "nbformat_minor": 2
}
